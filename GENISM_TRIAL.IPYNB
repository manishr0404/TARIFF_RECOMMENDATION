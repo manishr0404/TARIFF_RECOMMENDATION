{
 "cells": [
  {
   "cell_type": "code",
   "execution_count": 13,
   "metadata": {},
   "outputs": [],
   "source": [
    "import os\n",
    "current_dir = os.getcwd()"
   ]
  },
  {
   "cell_type": "code",
   "execution_count": 14,
   "metadata": {},
   "outputs": [
    {
     "data": {
      "text/plain": [
       "'c:\\\\Users\\\\marathoy\\\\Desktop\\\\AMAZON_FINAL_DEPLOY'"
      ]
     },
     "execution_count": 14,
     "metadata": {},
     "output_type": "execute_result"
    }
   ],
   "source": [
    "current_dir"
   ]
  },
  {
   "cell_type": "code",
   "execution_count": 23,
   "metadata": {},
   "outputs": [],
   "source": [
    "init_model_dir = os.path.join(current_dir, \"Data\",\"updated_data_v01.pkl\")"
   ]
  },
  {
   "cell_type": "code",
   "execution_count": 24,
   "metadata": {},
   "outputs": [
    {
     "data": {
      "text/plain": [
       "'c:\\\\Users\\\\marathoy\\\\Desktop\\\\AMAZON_FINAL_DEPLOY\\\\Data\\\\updated_data_v01.pkl'"
      ]
     },
     "execution_count": 24,
     "metadata": {},
     "output_type": "execute_result"
    }
   ],
   "source": [
    "init_model_dir"
   ]
  },
  {
   "cell_type": "code",
   "execution_count": 1,
   "metadata": {},
   "outputs": [
    {
     "name": "stderr",
     "output_type": "stream",
     "text": [
      "[nltk_data] Downloading package punkt to\n",
      "[nltk_data]     C:\\Users\\marathoy\\AppData\\Roaming\\nltk_data...\n",
      "[nltk_data]   Package punkt is already up-to-date!\n"
     ]
    },
    {
     "data": {
      "text/plain": [
       "True"
      ]
     },
     "execution_count": 1,
     "metadata": {},
     "output_type": "execute_result"
    }
   ],
   "source": [
    "import pandas as pd\n",
    "import nltk\n",
    "nltk.download('punkt')"
   ]
  },
  {
   "cell_type": "code",
   "execution_count": 2,
   "metadata": {},
   "outputs": [],
   "source": [
    "df = pd.read_pickle(\"C:/Users/marathoy/Desktop/Amazon_Cops_V02_Backup/updated_data_v01.pkl\")"
   ]
  },
  {
   "cell_type": "code",
   "execution_count": 4,
   "metadata": {},
   "outputs": [],
   "source": [
    "import pandas as pd\n",
    "import gensim\n",
    "import nltk\n",
    "\n",
    "# Read the CSV file into a Pandas DataFrame\n",
    "df \n",
    "\n",
    "# Extract the text columns from the DataFrame\n",
    "text_columns = [\"Ruling reference\", \"Description\", \"Keywords\",\"Expiry\",\"Code\",\"Images\"]\n",
    "documents = df[text_columns].apply(lambda x: \" \".join(x), axis=1)\n",
    "\n",
    "# Tokenize the documents using NLTK's word_tokenize() function\n",
    "tokens = [nltk.word_tokenize(doc) for doc in documents]\n",
    "\n",
    "# Create a dictionary from the tokens\n",
    "dictionary = gensim.corpora.Dictionary(tokens)\n",
    "\n",
    "# Convert the tokens to a bag-of-words representation using the dictionary\n",
    "corpus = [dictionary.doc2bow(token) for token in tokens]\n"
   ]
  },
  {
   "cell_type": "code",
   "execution_count": 5,
   "metadata": {},
   "outputs": [
    {
     "name": "stdout",
     "output_type": "stream",
     "text": [
      "Document 247: 504903370  Sea fishing rig combination. The sea rigs are made from steel and nylon.This combo consists of 70 packs of sea rigs. There are 7 variations of sea rig, and this combo includes 10 pieces of each. The 7 variations are; double hook flapper sea rig long, treble hook flapper sea rig, double hook clipped sea rig, single hook clipped sea rig, double hook pulley pennel sea rig, double hook loop sea rig  double hook flapper sea rig standard.  OF STEEL PULLEYS OF NYLON FOR FISHING FISH HOOKS  02 Mar 2024 95079000 nan\n",
      "Document 2993: 600003060  Barbless hair rigs a ready tied hook link to catch fish This pack includes 6 barbless hair rigs tied to a 15lb braid the pack contains 2 x size 6, 2 x size 8 and 2 x size 10 Materials: The hook and swivel are made from metal and the hook link is braided fishing line Packaging: a clear plastic wrap nan nan 9507900000 nan\n",
      "Document 211: 504898716  This item is a hook clamp for use with fishing. Product is a handheld hook clamp allowing for inspection, sharpening separate tool of carp hooks and is sized/shaped for that purpose. Made from CNC aluminium.  PUT UP FOR RETAIL SALE FISHING EQUIPMENT FOR FISHING OF ALUMINIUM FISHING TACKLES  27 Jan 2024 9507900000 https://www.tax.service.gov.uk/search-for-advance-tariff-rulings/ruling/504898716/attachment/fc879d99-14ad-4960-8453-e9aaccd157a4\n",
      "Document 268: 504909254  Carbon fishing rods of standard fishing rod design. The body of the rod is made out of carbon.  FISHING RODS FOR FISHING FISHING EQUIPMENT CARBON  04 Mar 2024 9507100000 nan\n",
      "Document 267: 504909156  Fibreglass fishing rod of standard fishing rod design. The body of the rod is made out of fibreglass.  FISHING RODS FOR FISHING FISHING EQUIPMENT OF GLASS FIBRE  04 Mar 2024 9507100000 nan\n",
      "Document 658: 504995230  An artificial floating bait nibbles used for recreational line fishing. The individual preformed nibbles are coloured. They are made of a water-soluble polymer of cellulose which give the individual nibbles body and contain fish attractant artificial and natural flavours. The nibbles are attached to the fishing hook. Packaged in plastic jars with a net weight of 34 grams  FISHING EQUIPMENT POLYMERS FOR FISHING FISHING TACKLES ARTIFICIAL BAIT  04 Feb 2024 95079000 nan\n",
      "Document 84: 504878234  This item is a PVA tape dispenser spool aimed at fishing use. The item comes with 20m of PVA Tape for use with bait when fishing, the PVA tape being water soluble leaves no residue.  OF PLASTIC SPOOLS PUT UP FOR RETAIL SALE FOR FISHING ETHYLENE-VINYL ACETATE COPOLYMERS  02 Mar 2024 3920995990 https://www.tax.service.gov.uk/search-for-advance-tariff-rulings/ruling/504878234/attachment/8d5b27d7-2e91-4b94-9a5c-cd76900d3c72\n",
      "Document 44: 504871059  This item is a fishing tackle box. This storage box is dark green in colour, made of plastic and has 6 small magnets which keep the box secured. On each side of the box, the space is split into compartments, for storing various items such as hair rigs, chod rig, zigs and other fishing tackle . One side has much more room for things such as scissors or other larger fishing items.  STORAGE BOXES WITH COMPARTMENTS OF PLASTIC PUT UP FOR RETAIL SALE FOR FISHING  24 Feb 2024 3926909790 https://www.tax.service.gov.uk/search-for-advance-tariff-rulings/ruling/504871059/attachment/33bd4265-e84d-427a-9ede-0dfd3ccd4087\n",
      "Document 21: 504867339  The item is a carp reel for use with fishing. The main body of the item is made of high strength plastic, some parts are made of metal, and the spool is made of graphite. Each reel comes with a spooled 10lb line. Product comes as a complete fishing reel with monofilament fishing line already spooled and is black and silver in colour.  OF METAL OF PLASTIC MONOFILAMENTS FISHING EQUIPMENT FISHING REELS FOR FISHING FISHING TACKLES OF GRAPHITE  10 Feb 2024 9507300000 nan\n",
      "Document 83: 504878136  This item is a PVA string dispenser spool for use with fishing. The item comes with 20m of PVA string for use with bait when fishing, the PVA string being water soluble leaves no residue.  TEXTILE FIBRES OF PLASTIC OF POLYVINYLACETATE PUT UP FOR RETAIL SALE DISSOLVING GRADES YARNS  01 Mar 2024 5511100000 https://www.tax.service.gov.uk/search-for-advance-tariff-rulings/ruling/504878136/attachment/ab3a20d5-d3a4-4ea1-9916-3036e77e9726\n"
     ]
    }
   ],
   "source": [
    "query = \"fishing hook\"\n",
    "\n",
    "# Convert the query to a bag-of-words representation\n",
    "query_bow = dictionary.doc2bow(query.split())\n",
    "\n",
    "# Perform semantic search using the bag-of-words representation\n",
    "results = gensim.similarities.MatrixSimilarity(corpus)[query_bow]\n",
    "\n",
    "# Print the top 10 most similar documents to the query\n",
    "for i, similarity in sorted(enumerate(results), key=lambda x: -x[1])[:10]:\n",
    "    print(f\"Document {i}: {documents[i]}\")"
   ]
  },
  {
   "cell_type": "code",
   "execution_count": 6,
   "metadata": {},
   "outputs": [
    {
     "name": "stdout",
     "output_type": "stream",
     "text": [
      "Document 247: Ruling reference                                                  504903370\n",
      "Description                Sea fishing rig combination. The sea rigs are...\n",
      "Keywords                   OF STEEL PULLEYS OF NYLON FOR FISHING FISH HOOKS\n",
      "Expiry                                                          02 Mar 2024\n",
      "Code                                                               95079000\n",
      "Images                                                                  nan\n",
      "Description_tokenised     [ Sea fishing rig combination., The sea rigs a...\n",
      "Description_embeddings    [[0.0059526507, 0.029918734, -0.03147648, 0.05...\n",
      "Name: 247, dtype: object\n",
      "Document 2993: Ruling reference                                                  600003060\n",
      "Description                Barbless hair rigs a ready tied hook link to ...\n",
      "Keywords                                                                nan\n",
      "Expiry                                                                  nan\n",
      "Code                                                             9507900000\n",
      "Images                                                                  nan\n",
      "Description_tokenised     [ Barbless hair rigs a ready tied hook link to...\n",
      "Description_embeddings    [[-0.059592787, -0.014022832, 0.057874233, 0.0...\n",
      "Name: 2993, dtype: object\n",
      "Document 211: Ruling reference                                                  504898716\n",
      "Description                This item is a hook clamp for use with fishin...\n",
      "Keywords                   PUT UP FOR RETAIL SALE FISHING EQUIPMENT FOR ...\n",
      "Expiry                                                          27 Jan 2024\n",
      "Code                                                             9507900000\n",
      "Images                    https://www.tax.service.gov.uk/search-for-adva...\n",
      "Description_tokenised     [ This item is a hook clamp for use with fishi...\n",
      "Description_embeddings    [[-0.0433516, 0.03943488, 0.036460623, -0.0322...\n",
      "Name: 211, dtype: object\n",
      "Document 268: Ruling reference                                                  504909254\n",
      "Description                Carbon fishing rods of standard fishing rod d...\n",
      "Keywords                   FISHING RODS FOR FISHING FISHING EQUIPMENT CA...\n",
      "Expiry                                                          04 Mar 2024\n",
      "Code                                                             9507100000\n",
      "Images                                                                  nan\n",
      "Description_tokenised     [ Carbon fishing rods of standard fishing rod ...\n",
      "Description_embeddings    [[-0.020650377, -0.031616673, -0.05314617, 0.0...\n",
      "Name: 268, dtype: object\n",
      "Document 267: Ruling reference                                                  504909156\n",
      "Description                Fibreglass fishing rod of standard fishing ro...\n",
      "Keywords                   FISHING RODS FOR FISHING FISHING EQUIPMENT OF...\n",
      "Expiry                                                          04 Mar 2024\n",
      "Code                                                             9507100000\n",
      "Images                                                                  nan\n",
      "Description_tokenised     [ Fibreglass fishing rod of standard fishing r...\n",
      "Description_embeddings    [[0.019092156, 0.0038687873, -0.05337502, 0.04...\n",
      "Name: 267, dtype: object\n",
      "Document 658: Ruling reference                                                  504995230\n",
      "Description                An artificial floating bait nibbles used for ...\n",
      "Keywords                   FISHING EQUIPMENT POLYMERS FOR FISHING FISHIN...\n",
      "Expiry                                                          04 Feb 2024\n",
      "Code                                                               95079000\n",
      "Images                                                                  nan\n",
      "Description_tokenised     [ An artificial floating bait nibbles used for...\n",
      "Description_embeddings    [[0.02142051, 0.041241214, -0.04107029, -0.037...\n",
      "Name: 658, dtype: object\n",
      "Document 84: Ruling reference                                                  504878234\n",
      "Description                This item is a PVA tape dispenser spool aimed...\n",
      "Keywords                   OF PLASTIC SPOOLS PUT UP FOR RETAIL SALE FOR ...\n",
      "Expiry                                                          02 Mar 2024\n",
      "Code                                                             3920995990\n",
      "Images                    https://www.tax.service.gov.uk/search-for-adva...\n",
      "Description_tokenised     [ This item is a PVA tape dispenser spool aime...\n",
      "Description_embeddings    [[-0.008790284, 0.07301281, -0.030655967, -0.0...\n",
      "Name: 84, dtype: object\n",
      "Document 44: Ruling reference                                                  504871059\n",
      "Description                This item is a fishing tackle box. This stora...\n",
      "Keywords                   STORAGE BOXES WITH COMPARTMENTS OF PLASTIC PU...\n",
      "Expiry                                                          24 Feb 2024\n",
      "Code                                                             3926909790\n",
      "Images                    https://www.tax.service.gov.uk/search-for-adva...\n",
      "Description_tokenised     [ This item is a fishing tackle box., This sto...\n",
      "Description_embeddings    [[-0.015834337, 0.0714884, -0.053064667, 0.020...\n",
      "Name: 44, dtype: object\n",
      "Document 21: Ruling reference                                                  504867339\n",
      "Description                The item is a carp reel for use with fishing....\n",
      "Keywords                   OF METAL OF PLASTIC MONOFILAMENTS FISHING EQU...\n",
      "Expiry                                                          10 Feb 2024\n",
      "Code                                                             9507300000\n",
      "Images                                                                  nan\n",
      "Description_tokenised     [ The item is a carp reel for use with fishing...\n",
      "Description_embeddings    [[-0.039512496, 0.03464543, -0.0037257564, -0....\n",
      "Name: 21, dtype: object\n",
      "Document 83: Ruling reference                                                  504878136\n",
      "Description                This item is a PVA string dispenser spool for...\n",
      "Keywords                   TEXTILE FIBRES OF PLASTIC OF POLYVINYLACETATE...\n",
      "Expiry                                                          01 Mar 2024\n",
      "Code                                                             5511100000\n",
      "Images                    https://www.tax.service.gov.uk/search-for-adva...\n",
      "Description_tokenised     [ This item is a PVA string dispenser spool fo...\n",
      "Description_embeddings    [[-0.030808687, 0.044560067, -0.035651393, 0.0...\n",
      "Name: 83, dtype: object\n"
     ]
    }
   ],
   "source": [
    "query = \"fishing hook\"\n",
    "\n",
    "# Convert the query to a bag-of-words representation\n",
    "query_bow = dictionary.doc2bow(query.split())\n",
    "\n",
    "# Perform semantic search using the bag-of-words representation\n",
    "results = gensim.similarities.MatrixSimilarity(corpus)[query_bow]\n",
    "\n",
    "# Print the top 10 most similar documents to the query\n",
    "for i, similarity in sorted(enumerate(results), key=lambda x: -x[1])[:10]:\n",
    "    print(f\"Document {i}: {df.iloc[i]}\")"
   ]
  },
  {
   "cell_type": "code",
   "execution_count": null,
   "metadata": {},
   "outputs": [],
   "source": []
  }
 ],
 "metadata": {
  "kernelspec": {
   "display_name": "Python 3.10.1 64-bit",
   "language": "python",
   "name": "python3"
  },
  "language_info": {
   "codemirror_mode": {
    "name": "ipython",
    "version": 3
   },
   "file_extension": ".py",
   "mimetype": "text/x-python",
   "name": "python",
   "nbconvert_exporter": "python",
   "pygments_lexer": "ipython3",
   "version": "3.10.1"
  },
  "orig_nbformat": 4,
  "vscode": {
   "interpreter": {
    "hash": "26de051ba29f2982a8de78e945f0abaf191376122a1563185a90213a26c5da77"
   }
  }
 },
 "nbformat": 4,
 "nbformat_minor": 2
}
